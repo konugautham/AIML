{
 "cells": [
  {
   "cell_type": "code",
   "execution_count": 2,
   "metadata": {},
   "outputs": [
    {
     "data": {
      "text/plain": [
       "(-6-1j)"
      ]
     },
     "execution_count": 2,
     "metadata": {},
     "output_type": "execute_result"
    }
   ],
   "source": [
    "#Write a program to subtract two complex numbers in Python.\n",
    "a=3+4j\n",
    "b=9+5j\n",
    "c=a-b\n",
    "c"
   ]
  },
  {
   "cell_type": "code",
   "execution_count": 3,
   "metadata": {},
   "outputs": [
    {
     "data": {
      "text/plain": [
       "3.1622776601683795"
      ]
     },
     "execution_count": 3,
     "metadata": {},
     "output_type": "execute_result"
    }
   ],
   "source": [
    "#Write a program to find the fourth root of a number\n",
    "def nth_root(num,root):\n",
    "    answer=num**(1/root)\n",
    "    return answer\n",
    "nth_root(100,4)\n"
   ]
  },
  {
   "cell_type": "code",
   "execution_count": 4,
   "metadata": {},
   "outputs": [
    {
     "name": "stdout",
     "output_type": "stream",
     "text": [
      "The value of x after swapping: 10\n",
      "The value of y after swapping: 5\n"
     ]
    }
   ],
   "source": [
    "#Write a program to swap two numbers in Python with the help of a temporary variable\n",
    "x=5\n",
    "y=10\n",
    "temp=x\n",
    "x=y\n",
    "y=temp\n",
    "print('The value of x after swapping: {}'.format(x))\n",
    "print('The value of y after swapping: {}'.format(y))"
   ]
  },
  {
   "cell_type": "code",
   "execution_count": 5,
   "metadata": {},
   "outputs": [
    {
     "name": "stdout",
     "output_type": "stream",
     "text": [
      "x = 8\n",
      "y = 4\n"
     ]
    }
   ],
   "source": [
    "#Write a program to swap two numbers in Python without using a temporary variable.\n",
    "x=4\n",
    "y=8\n",
    "x,y=y,x\n",
    "print(\"x =\", x)\n",
    "print(\"y =\", y)"
   ]
  },
  {
   "cell_type": "code",
   "execution_count": 6,
   "metadata": {},
   "outputs": [
    {
     "name": "stdout",
     "output_type": "stream",
     "text": [
      "Enter temperature in fahrenheit: 100\n",
      "100.00 Fahrenheit is: 37.78 Celsius\n"
     ]
    }
   ],
   "source": [
    "#Write a program to convert fahrenheit to kelvin and celsius both.\n",
    "fahrenheit = float(input(\"Enter temperature in fahrenheit: \"))\n",
    "celsius = (fahrenheit - 32) * 5/9\n",
    "print('%.2f Fahrenheit is: %0.2f Celsius' %(fahrenheit, celsius))\n"
   ]
  },
  {
   "cell_type": "code",
   "execution_count": 7,
   "metadata": {},
   "outputs": [
    {
     "name": "stdout",
     "output_type": "stream",
     "text": [
      "Temperature in Kelvin ( K ) = 311.278\n"
     ]
    }
   ],
   "source": [
    "def Fahrenheit_to_Kelvin(F): \n",
    "    return 273.5 + ((F - 32.0) * (5.0/9.0)) \n",
    "  \n",
    "# Driver function \n",
    "F = 100\n",
    "print(\"Temperature in Kelvin ( K ) = {:.3f}\" \n",
    "            .format(Fahrenheit_to_Kelvin( F ))) "
   ]
  },
  {
   "cell_type": "code",
   "execution_count": 11,
   "metadata": {},
   "outputs": [
    {
     "name": "stdout",
     "output_type": "stream",
     "text": [
      "<class 'int'>\n",
      "<class 'float'>\n",
      "<class 'complex'>\n",
      "<class 'str'>\n",
      "<class 'list'>\n",
      "<class 'tuple'>\n",
      "<class 'set'>\n",
      "<class 'dict'>\n"
     ]
    }
   ],
   "source": [
    "#Write a program to demonstrate all the available data types in Python. Hint: Use type() function\n",
    "a=2\n",
    "b=3.5\n",
    "c=3+5j\n",
    "d=\"Gautham\"\n",
    "my_list=[1,2,3]\n",
    "my_tuple=(4,5,6)\n",
    "my_set={7,8,9.7}\n",
    "my_dictionary={1:'apple',2:'Mango'}\n",
    "print(type(a))\n",
    "print(type(b))\n",
    "print(type(c))\n",
    "print(type(d))\n",
    "print(type(my_list))\n",
    "print(type(my_tuple))\n",
    "print(type(my_set))\n",
    "print(type(my_dictionary))\n"
   ]
  },
  {
   "cell_type": "markdown",
   "metadata": {},
   "source": [
    "Steps to Create Github Profile and upload git hub assignment Link"
   ]
  },
  {
   "cell_type": "code",
   "execution_count": null,
   "metadata": {},
   "outputs": [],
   "source": [
    "Create a Github public repo and name it LetsUpgrade AI/ML\n",
    "Upload the files/solution in the repo in day wise manner.\n",
    "Copy the URL of the Folder of that day and paste in the Assignment Submission Form (Google Form)\n",
    "Make sure you are filling correct details in the Assignment Submission Form."
   ]
  }
 ],
 "metadata": {
  "kernelspec": {
   "display_name": "Python 3",
   "language": "python",
   "name": "python3"
  },
  "language_info": {
   "codemirror_mode": {
    "name": "ipython",
    "version": 3
   },
   "file_extension": ".py",
   "mimetype": "text/x-python",
   "name": "python",
   "nbconvert_exporter": "python",
   "pygments_lexer": "ipython3",
   "version": "3.7.7"
  }
 },
 "nbformat": 4,
 "nbformat_minor": 4
}
