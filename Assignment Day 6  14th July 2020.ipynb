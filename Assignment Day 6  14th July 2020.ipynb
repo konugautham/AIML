{
 "cells": [
  {
   "cell_type": "code",
   "execution_count": 1,
   "metadata": {},
   "outputs": [
    {
     "name": "stdout",
     "output_type": "stream",
     "text": [
      "Enter EMail Address:gautham.konuri@gmail.com\n",
      "gmail"
     ]
    }
   ],
   "source": [
    "#Assuming that we have some email addresses in the \"username@companyname.com\" format, please write program\n",
    "#to print the company name of a given email address. Both user names and company names are composed of letters\n",
    "#only.\n",
    "\n",
    "ip=input(\"Enter EMail Address:\")\n",
    "x=ip.index(\"@\")\n",
    "print(ip[x+1:len(ip)-4],end='')"
   ]
  },
  {
   "cell_type": "code",
   "execution_count": 2,
   "metadata": {},
   "outputs": [
    {
     "name": "stdout",
     "output_type": "stream",
     "text": [
      "enter data to sort10,30,20,18,15\n",
      "Sorted data are  10 15 18 20 30\n"
     ]
    }
   ],
   "source": [
    "#Write a program that accepts a comma-separated sequence of words as input and prints the words in a comma\n",
    "#separated sequence after sorting them alphabetically\n",
    "items=[x for x in input(\"enter data to sort\").split(',')]\n",
    "items.sort()\n",
    "print (\"Sorted data are \",' '.join(items))"
   ]
  },
  {
   "cell_type": "code",
   "execution_count": 13,
   "metadata": {},
   "outputs": [
    {
     "name": "stdout",
     "output_type": "stream",
     "text": [
      "{'Google', 'Apple', 'MSFT'}\n",
      "True\n",
      "{'Google', 'Apple', 'Dell', 'MSFT'}\n",
      "{'Apple', 'Google', 'MSFT', 'Dell', 'Accenture', 'TCS'}\n",
      "6\n",
      "{'Apple', 'Google', 'MSFT', 'Dell', 'Accenture'}\n"
     ]
    }
   ],
   "source": [
    "#Create your own Jupyter Notebook for Sets.\n",
    "myset = {\"Google\", \"MSFT\", \"Apple\"}\n",
    "print(myset)\n",
    "print(\"Google\" in myset)\n",
    "myset.add(\"Dell\")\n",
    "print(myset)\n",
    "myset.update([\"TCS\",\"Accenture\"])\n",
    "print(myset)\n",
    "print(len(myset))\n",
    "myset.remove(\"TCS\")\n",
    "print(myset)"
   ]
  },
  {
   "cell_type": "code",
   "execution_count": 26,
   "metadata": {},
   "outputs": [
    {
     "name": "stdout",
     "output_type": "stream",
     "text": [
      "3.0\n"
     ]
    }
   ],
   "source": [
    "#Given a list of n-1 numbers ranging from 1 to n, your task is to find the missing number. There are no duplicates\n",
    "def getMissingNo(A): \n",
    "    n = len(A) \n",
    "    total = (n + 1)*(n + 2)/2\n",
    "    sum_of_A = sum(A) \n",
    "    return total - sum_of_A \n",
    "A = [1, 2, 4, 5, 6] \n",
    "miss = getMissingNo(A) \n",
    "print(miss)\n"
   ]
  },
  {
   "cell_type": "code",
   "execution_count": 1,
   "metadata": {},
   "outputs": [
    {
     "name": "stdout",
     "output_type": "stream",
     "text": [
      "12 24 35 24 88 120 155 88 120 155\n",
      "12 24 35 88 120 155"
     ]
    }
   ],
   "source": [
    "#With a given list L, write a program to print this list L after removing all duplicate values with original order reserved\n",
    "o=list(map(int,input().split()))\n",
    "d=[]\n",
    "for i in o:\n",
    "  if i not in d:\n",
    "    d.append(i)\n",
    "print(*d,end=\"\")"
   ]
  },
  {
   "cell_type": "code",
   "execution_count": null,
   "metadata": {},
   "outputs": [],
   "source": []
  }
 ],
 "metadata": {
  "kernelspec": {
   "display_name": "Python 3",
   "language": "python",
   "name": "python3"
  },
  "language_info": {
   "codemirror_mode": {
    "name": "ipython",
    "version": 3
   },
   "file_extension": ".py",
   "mimetype": "text/x-python",
   "name": "python",
   "nbconvert_exporter": "python",
   "pygments_lexer": "ipython3",
   "version": "3.7.7"
  }
 },
 "nbformat": 4,
 "nbformat_minor": 4
}
