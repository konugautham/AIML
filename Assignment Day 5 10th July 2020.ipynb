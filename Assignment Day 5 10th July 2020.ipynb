{
 "cells": [
  {
   "cell_type": "code",
   "execution_count": 7,
   "metadata": {},
   "outputs": [
    {
     "name": "stdout",
     "output_type": "stream",
     "text": [
      "Prime numbers between 500 and 620 are:\n",
      "503\n",
      "509\n",
      "521\n",
      "523\n",
      "541\n",
      "547\n",
      "557\n",
      "563\n",
      "569\n",
      "571\n",
      "577\n",
      "587\n",
      "593\n",
      "599\n",
      "601\n",
      "607\n",
      "613\n",
      "617\n",
      "619\n"
     ]
    }
   ],
   "source": [
    "#Write a Python program to find the first 20 non-even prime natural numbers\n",
    "lower = 500\n",
    "upper = 620\n",
    "\n",
    "print(\"Prime numbers between\", lower, \"and\", upper, \"are:\")\n",
    "\n",
    "for num in range(lower, upper + 1):\n",
    "   # all prime numbers are greater than 1\n",
    "   if num > 1:\n",
    "       for i in range(2, num):\n",
    "           if (num % i) == 0:\n",
    "               break\n",
    "       else:\n",
    "           print(num)"
   ]
  },
  {
   "cell_type": "code",
   "execution_count": 38,
   "metadata": {},
   "outputs": [
    {
     "name": "stdout",
     "output_type": "stream",
     "text": [
      "Learning python with lets upgrade\n",
      "learning python with lets upgrade\n",
      "b'learning python with Lets Upgrade'\n",
      "learning python with Lets Upgrade\n",
      "False\n",
      "False\n",
      "False\n",
      "False\n",
      "False\n",
      "False\n",
      "learning python with Lets Upgrade\n",
      "learning python with Lets Upgrade\n",
      "LEARNING PYTHON WITH LETS UPGRADE\n",
      "['learning', 'python', 'with', 'Lets', 'Upgrade']\n",
      "learning python with Lets Upgrade\n"
     ]
    }
   ],
   "source": [
    "#Write a Python program to implement 15 functions of string.\n",
    "a=\"learning python with Lets Upgrade\"\n",
    "print(a.capitalize())\n",
    "print(a.casefold())\n",
    "print(a.encode())\n",
    "print(a.format())\n",
    "print(a.isnumeric())\n",
    "print(a.isalnum())\n",
    "print(a.isalpha())\n",
    "print(a.isdigit())\n",
    "print(a.isupper())\n",
    "print(a.istitle())\n",
    "print(a.lstrip())\n",
    "print(a.strip())\n",
    "print(a.upper())\n",
    "print(a.rsplit())\n",
    "print(a.rstrip())"
   ]
  },
  {
   "cell_type": "code",
   "execution_count": 1,
   "metadata": {},
   "outputs": [
    {
     "name": "stdout",
     "output_type": "stream",
     "text": [
      "Enter a string:madam\n",
      "The string is a palindrome\n"
     ]
    }
   ],
   "source": [
    "#Write a Python program to check if the given string is a Palindrome or Anagram or None of them.\n",
    "#Display the message accordingly to the user.\n",
    "string=input((\"Enter a string:\"))\n",
    "if(string==string[::-1]):\n",
    "      print(\"The string is a palindrome\")\n",
    "else:\n",
    "      print(\"Not a palindrome\")"
   ]
  },
  {
   "cell_type": "code",
   "execution_count": 2,
   "metadata": {},
   "outputs": [
    {
     "name": "stdout",
     "output_type": "stream",
     "text": [
      "True\n",
      "False\n"
     ]
    }
   ],
   "source": [
    "def is_anagram(str1, str2):\n",
    "    list_str1 = list(str1)\n",
    "    list_str1.sort()\n",
    "    list_str2 = list(str2)\n",
    "    list_str2.sort()\n",
    "\n",
    "    return (list_str1 == list_str2)\n",
    "\n",
    "print(is_anagram('anagram','nagaram'))\n",
    "print(is_anagram('cat','rat'))\n"
   ]
  },
  {
   "cell_type": "code",
   "execution_count": 9,
   "metadata": {},
   "outputs": [
    {
     "name": "stdout",
     "output_type": "stream",
     "text": [
      "enter stringDr. Darshan Ingle #@AI-ML Trainer\n",
      "drdarshaningleaimltrainer"
     ]
    }
   ],
   "source": [
    "#Write a Python's user defined function that removes all the additional characters from the string\n",
    "#and converts it finally to lower case using built-in lower(). eg: If the string is \"Dr. Darshan Ingle\n",
    "#@AI-ML Trainer\", then the output be \"drdarshaningleaimltrainer\"\n",
    "a=input(\"enter string\")\n",
    "for i in a:\n",
    "    if i.isalnum():\n",
    "        print(i.lower(),end=\"\")"
   ]
  }
 ],
 "metadata": {
  "kernelspec": {
   "display_name": "Python 3",
   "language": "python",
   "name": "python3"
  },
  "language_info": {
   "codemirror_mode": {
    "name": "ipython",
    "version": 3
   },
   "file_extension": ".py",
   "mimetype": "text/x-python",
   "name": "python",
   "nbconvert_exporter": "python",
   "pygments_lexer": "ipython3",
   "version": "3.7.7"
  }
 },
 "nbformat": 4,
 "nbformat_minor": 4
}
